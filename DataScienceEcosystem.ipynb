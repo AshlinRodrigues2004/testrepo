{
 "cells": [
  {
   "cell_type": "markdown",
   "id": "b679e0da-2b13-4bad-afef-b907c035104c",
   "metadata": {},
   "source": [
    "# Data Science Tools and Ecosystem"
   ]
  },
  {
   "cell_type": "markdown",
   "id": "94b98f7e-300a-417e-8b61-e32cfac834b9",
   "metadata": {
    "tags": []
   },
   "source": [
    "In this notebook, Data Science Tools and Ecosystem are summarised."
   ]
  },
  {
   "cell_type": "markdown",
   "id": "ddf50487-77a8-4436-8a98-256a9e85d8f1",
   "metadata": {},
   "source": [
    "Some of the popular languages that Data Scientists use are :\n",
    "<ol>\n",
    "<li>Python</li>\n",
    "<li>R</li>\n",
    "<li>Java</li>\n",
    "<li>Julia</li>\n",
    "<li>Scala </li>\n",
    "    </ol>\n",
    "\n",
    "    "
   ]
  },
  {
   "cell_type": "markdown",
   "id": "b2c747cc-cc4c-48c4-b874-d564987c2924",
   "metadata": {},
   "source": [
    "Some of the commonly used libraries used by Data Scientists include :\n",
    "1.  Matplotlib\n",
    "2.  NumPy\n",
    "3.  Pandas\n",
    "4.  PyTorch\n",
    "5.  Tensor Flow\n",
    "6.  Scikit-Learn"
   ]
  },
  {
   "cell_type": "markdown",
   "id": "37144133-c8db-4c56-86d7-6a602c82d4c3",
   "metadata": {},
   "source": [
    "|Data Science Tools|\n",
    "|----:|\n",
    "|1. RStudio|\n",
    "|2. Apache Spark|\n",
    "|3. Tensor Flow|"
   ]
  },
  {
   "cell_type": "markdown",
   "id": "7b4ef565-289c-48e6-a0da-d512f62089a7",
   "metadata": {},
   "source": [
    "### Below are a few examples of evaluating arithmetic expressions in Python"
   ]
  },
  {
   "cell_type": "markdown",
   "id": "98a6f7e8-2aa8-4c8e-be0b-22c70a78603f",
   "metadata": {
    "tags": []
   },
   "source": [
    "This is a simple arithmetic expression to multiply then add integers\n"
   ]
  },
  {
   "cell_type": "code",
   "execution_count": 7,
   "id": "19a4254f-db6c-4e6c-aff2-3ffccc9ab538",
   "metadata": {
    "tags": []
   },
   "outputs": [
    {
     "data": {
      "text/plain": [
       "17"
      ]
     },
     "execution_count": 7,
     "metadata": {},
     "output_type": "execute_result"
    }
   ],
   "source": [
    "(3*4)+5"
   ]
  },
  {
   "cell_type": "markdown",
   "id": "d9bba04c-edb9-4863-b87c-8b5e778c8913",
   "metadata": {},
   "source": [
    "### This will convert 200 minutes to hours by dividing by 60"
   ]
  },
  {
   "cell_type": "code",
   "execution_count": 8,
   "id": "2d95d635-7b72-4bf4-b539-b850e3c90322",
   "metadata": {
    "tags": []
   },
   "outputs": [
    {
     "name": "stdout",
     "output_type": "stream",
     "text": [
      "3.3333333333333335\n"
     ]
    }
   ],
   "source": [
    "mins=200\n",
    "hours=200/60\n",
    "print(hours)"
   ]
  },
  {
   "cell_type": "markdown",
   "id": "007d5cd2-f096-4067-992c-1226888772db",
   "metadata": {},
   "source": [
    "# Objectives:"
   ]
  },
  {
   "cell_type": "markdown",
   "id": "07cdd26f-ca50-40fa-89f2-df97544ba08b",
   "metadata": {},
   "source": [
    "-  Data Science Skills\n",
    "-  Data Visualization and Sharing\n",
    "-  Data Organizing and Cleaning"
   ]
  },
  {
   "cell_type": "markdown",
   "id": "43b6a67d-8b41-4d5a-9cac-6bc08a3dd594",
   "metadata": {},
   "source": [
    "## Author"
   ]
  },
  {
   "cell_type": "markdown",
   "id": "718a201b-e18f-4da3-b8ef-5f913c2dff45",
   "metadata": {},
   "source": [
    "Ashlin Rodrigues"
   ]
  },
  {
   "cell_type": "code",
   "execution_count": null,
   "id": "3a939c07-be7b-44c9-b0e1-80773dde4027",
   "metadata": {},
   "outputs": [],
   "source": []
  }
 ],
 "metadata": {
  "kernelspec": {
   "display_name": "Python",
   "language": "python",
   "name": "conda-env-python-py"
  },
  "language_info": {
   "codemirror_mode": {
    "name": "ipython",
    "version": 3
   },
   "file_extension": ".py",
   "mimetype": "text/x-python",
   "name": "python",
   "nbconvert_exporter": "python",
   "pygments_lexer": "ipython3",
   "version": "3.7.12"
  }
 },
 "nbformat": 4,
 "nbformat_minor": 5
}
